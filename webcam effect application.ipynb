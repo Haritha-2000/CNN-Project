{
 "cells": [
  {
   "cell_type": "code",
   "execution_count": 1,
   "id": "f971eda7",
   "metadata": {},
   "outputs": [],
   "source": [
    "import cv2\n",
    "\n",
    "face_cascade = cv2.CascadeClassifier(cv2.data.haarcascades + \"haarcascade_frontalface_default.xml\")\n",
    "\n",
    "effect_image = cv2.imread(\"effect.png\")\n",
    "\n",
    "# Create a function to apply the effect to the face region \n",
    "def apply_effect(face_roi):\n",
    "    resized_effect = cv2.resize(effect_image, (face_roi.shape[1], face_roi.shape[0]))\n",
    "    \n",
    "    # Overlay the effect image onto the face region\n",
    "    for i in range(resized_effect.shape[0]):\n",
    "        for j in range(resized_effect.shape[1]):\n",
    "            face_roi[i, j] = resized_effect[i, j][:3]  # Copy the RGB values\n",
    "    \n",
    "    return face_roi\n",
    "\n",
    "video_capture = cv2.VideoCapture(0)\n",
    "\n",
    "while True:\n",
    "    # Read a frame from the video stream\n",
    "    ret, frame = video_capture.read()\n",
    "    \n",
    "    # Convert the frame to grayscale for face detection\n",
    "    gray = cv2.cvtColor(frame, cv2.COLOR_BGR2GRAY)\n",
    "    \n",
    "    # Perform face detection\n",
    "    faces = face_cascade.detectMultiScale(gray, scaleFactor=1.3, minNeighbors=5)\n",
    "    \n",
    "    # Apply the effect to each detected face\n",
    "    for (x, y, w, h) in faces:\n",
    "        face_roi = frame[y:y+h, x:x+w]  # Extract the face region\n",
    "        \n",
    "        # Apply the effect to the face region\n",
    "        face_roi = apply_effect(face_roi)\n",
    "        \n",
    "        # Update the frame with the modified face region\n",
    "        frame[y:y+h, x:x+w] = face_roi\n",
    "    \n",
    "    # Display the resulting frame\n",
    "    cv2.imshow(\"Webcam Effects\", frame)\n",
    "    \n",
    "    # Check for key press to exit\n",
    "    if cv2.waitKey(1) & 0xFF == ord(\"q\"):\n",
    "        break\n",
    "\n",
    "# Release the video capture and close the window\n",
    "video_capture.release()\n",
    "cv2.destroyAllWindows()\n"
   ]
  },
  {
   "cell_type": "code",
   "execution_count": null,
   "id": "9a69ee31",
   "metadata": {},
   "outputs": [],
   "source": []
  },
  {
   "cell_type": "code",
   "execution_count": null,
   "id": "01c0f75a",
   "metadata": {},
   "outputs": [],
   "source": []
  }
 ],
 "metadata": {
  "kernelspec": {
   "display_name": "Python 3 (ipykernel)",
   "language": "python",
   "name": "python3"
  },
  "language_info": {
   "codemirror_mode": {
    "name": "ipython",
    "version": 3
   },
   "file_extension": ".py",
   "mimetype": "text/x-python",
   "name": "python",
   "nbconvert_exporter": "python",
   "pygments_lexer": "ipython3",
   "version": "3.9.13"
  }
 },
 "nbformat": 4,
 "nbformat_minor": 5
}
